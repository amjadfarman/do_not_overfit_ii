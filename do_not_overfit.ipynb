{
 "cells": [
  {
   "cell_type": "markdown",
   "metadata": {},
   "source": [
    "# Do not overfit -- Kaggle"
   ]
  },
  {
   "cell_type": "code",
   "execution_count": 1,
   "metadata": {
    "collapsed": true
   },
   "outputs": [],
   "source": [
    "import pandas as pd\n",
    "import numpy as np\n",
    "import matplotlib.pyplot as plt\n",
    "import seaborn as sb\n",
    "from xgboost import XGBClassifier\n",
    "from sklearn.linear_model import LogisticRegression\n",
    "from sklearn.model_selection import train_test_split, RepeatedStratifiedKFold, GridSearchCV\n",
    "from sklearn.metrics import roc_auc_score"
   ]
  },
  {
   "cell_type": "code",
   "execution_count": 2,
   "metadata": {
    "collapsed": true
   },
   "outputs": [],
   "source": [
    "data_path = 'data/'\n",
    "train_data = pd.read_csv(f'{data_path}train.csv', index_col = 'id')\n",
    "test_data = pd.read_csv(f'{data_path}test.csv', index_col = 'id')"
   ]
  },
  {
   "cell_type": "code",
   "execution_count": 3,
   "metadata": {},
   "outputs": [
    {
     "data": {
      "text/html": [
       "<div>\n",
       "<style>\n",
       "    .dataframe thead tr:only-child th {\n",
       "        text-align: right;\n",
       "    }\n",
       "\n",
       "    .dataframe thead th {\n",
       "        text-align: left;\n",
       "    }\n",
       "\n",
       "    .dataframe tbody tr th {\n",
       "        vertical-align: top;\n",
       "    }\n",
       "</style>\n",
       "<table border=\"1\" class=\"dataframe\">\n",
       "  <thead>\n",
       "    <tr style=\"text-align: right;\">\n",
       "      <th></th>\n",
       "      <th>level_0</th>\n",
       "      <th>level_1</th>\n",
       "      <th>0</th>\n",
       "    </tr>\n",
       "  </thead>\n",
       "  <tbody>\n",
       "    <tr>\n",
       "      <th>89690</th>\n",
       "      <td>79</td>\n",
       "      <td>187</td>\n",
       "      <td>0.243916</td>\n",
       "    </tr>\n",
       "    <tr>\n",
       "      <th>89691</th>\n",
       "      <td>187</td>\n",
       "      <td>79</td>\n",
       "      <td>0.243916</td>\n",
       "    </tr>\n",
       "    <tr>\n",
       "      <th>89692</th>\n",
       "      <td>140</td>\n",
       "      <td>187</td>\n",
       "      <td>0.244012</td>\n",
       "    </tr>\n",
       "    <tr>\n",
       "      <th>89693</th>\n",
       "      <td>187</td>\n",
       "      <td>140</td>\n",
       "      <td>0.244012</td>\n",
       "    </tr>\n",
       "    <tr>\n",
       "      <th>89694</th>\n",
       "      <td>28</td>\n",
       "      <td>22</td>\n",
       "      <td>0.246062</td>\n",
       "    </tr>\n",
       "    <tr>\n",
       "      <th>89695</th>\n",
       "      <td>22</td>\n",
       "      <td>28</td>\n",
       "      <td>0.246062</td>\n",
       "    </tr>\n",
       "    <tr>\n",
       "      <th>89696</th>\n",
       "      <td>193</td>\n",
       "      <td>101</td>\n",
       "      <td>0.252825</td>\n",
       "    </tr>\n",
       "    <tr>\n",
       "      <th>89697</th>\n",
       "      <td>101</td>\n",
       "      <td>193</td>\n",
       "      <td>0.252825</td>\n",
       "    </tr>\n",
       "    <tr>\n",
       "      <th>89698</th>\n",
       "      <td>32</td>\n",
       "      <td>75</td>\n",
       "      <td>0.259315</td>\n",
       "    </tr>\n",
       "    <tr>\n",
       "      <th>89699</th>\n",
       "      <td>75</td>\n",
       "      <td>32</td>\n",
       "      <td>0.259315</td>\n",
       "    </tr>\n",
       "  </tbody>\n",
       "</table>\n",
       "</div>"
      ],
      "text/plain": [
       "      level_0 level_1         0\n",
       "89690      79     187  0.243916\n",
       "89691     187      79  0.243916\n",
       "89692     140     187  0.244012\n",
       "89693     187     140  0.244012\n",
       "89694      28      22  0.246062\n",
       "89695      22      28  0.246062\n",
       "89696     193     101  0.252825\n",
       "89697     101     193  0.252825\n",
       "89698      32      75  0.259315\n",
       "89699      75      32  0.259315"
      ]
     },
     "execution_count": 3,
     "metadata": {},
     "output_type": "execute_result"
    }
   ],
   "source": [
    "corrs = train_data.drop(labels = ['target'], axis = 1).corr().abs().unstack().sort_values(kind=\"quicksort\").reset_index()\n",
    "corrs = corrs[corrs['level_0'] != corrs['level_1']]\n",
    "corrs.tail(10)"
   ]
  },
  {
   "cell_type": "code",
   "execution_count": 4,
   "metadata": {},
   "outputs": [
    {
     "data": {
      "text/plain": [
       "1.0    160\n",
       "0.0     90\n",
       "Name: target, dtype: int64"
      ]
     },
     "execution_count": 4,
     "metadata": {},
     "output_type": "execute_result"
    }
   ],
   "source": [
    "train_data['target'].value_counts()"
   ]
  },
  {
   "cell_type": "code",
   "execution_count": 5,
   "metadata": {},
   "outputs": [],
   "source": [
    "consistant_cols = list(train_data.columns[train_data.mean().abs() <= .1])"
   ]
  },
  {
   "cell_type": "code",
   "execution_count": 6,
   "metadata": {},
   "outputs": [],
   "source": [
    "train_data = train_data[consistant_cols+['target']]\n",
    "test_data = test_data[consistant_cols]"
   ]
  },
  {
   "cell_type": "code",
   "execution_count": 7,
   "metadata": {
    "collapsed": true
   },
   "outputs": [],
   "source": [
    "consistant_cols = list(train_data.columns[train_data.median().abs() <= .1])"
   ]
  },
  {
   "cell_type": "code",
   "execution_count": 8,
   "metadata": {
    "collapsed": true
   },
   "outputs": [],
   "source": [
    "train_data = train_data[consistant_cols+['target']]\n",
    "test_data = test_data[consistant_cols]"
   ]
  },
  {
   "cell_type": "code",
   "execution_count": 9,
   "metadata": {
    "collapsed": true
   },
   "outputs": [],
   "source": [
    "columns_impact = pd.DataFrame(\n",
    "    columns = ['column_name', 'mean_impact_on_0', 'mean_impact_on_1', 'std_0', 'std_1']\n",
    ")\n",
    "for col in train_data.columns[train_data.columns != 'target']:\n",
    "    columns_impact = columns_impact.append(dict(\n",
    "        column_name = col\n",
    "        , mean_impact_on_0 = train_data[train_data['target'] == 0][col].mean()\n",
    "        , mean_impact_on_1 = train_data[train_data['target'] == 1][col].mean()\n",
    "        , std_0 = train_data[train_data['target'] == 0][col].std()\n",
    "        , std_1 = train_data[train_data['target'] == 1][col].std()\n",
    "    )\n",
    "                                          , ignore_index = True)"
   ]
  },
  {
   "cell_type": "code",
   "execution_count": 10,
   "metadata": {
    "collapsed": true
   },
   "outputs": [],
   "source": [
    "columns_impact['upper_l_0'] = columns_impact['mean_impact_on_0'] + 1.96 * columns_impact['std_0']\n",
    "columns_impact['upper_l_1'] = columns_impact['mean_impact_on_1'] + 1.96 * columns_impact['std_1']\n",
    "columns_impact['lower_l_0'] = columns_impact['mean_impact_on_0'] - 1.96 * columns_impact['std_0']\n",
    "columns_impact['lower_l_1'] = columns_impact['mean_impact_on_1'] - 1.96 * columns_impact['std_1']\n",
    "columns_impact['overlap'] = columns_impact.apply(\n",
    "lambda row: min(row['upper_l_0'], row['upper_l_1']) - max(row['lower_l_0'], row['lower_l_1'])\n",
    "    , axis = 1\n",
    ")\n",
    "columns_impact['spread'] = columns_impact.apply(\n",
    "lambda row: max(row['upper_l_0'], row['upper_l_1']) - min(row['lower_l_0'], row['lower_l_1'])\n",
    "    , axis = 1\n",
    ")\n",
    "columns_impact['opportunity'] = (columns_impact['spread'] - columns_impact['overlap'])/columns_impact['spread']\n",
    "columns_impact['oppor_factor'] = columns_impact.apply(\n",
    "lambda row: 0 if (((row['upper_l_0'] > row['upper_l_1']) and (row['lower_l_0'] < row['lower_l_1']))\n",
    "    or ((row['upper_l_0'] < row['upper_l_1']) and (row['lower_l_0'] > row['lower_l_1']))) else 1\n",
    "    , axis = 1\n",
    ")\n",
    "columns_impact['opportunity'] = columns_impact['opportunity'] * columns_impact['oppor_factor']"
   ]
  },
  {
   "cell_type": "code",
   "execution_count": 11,
   "metadata": {},
   "outputs": [
    {
     "data": {
      "image/png": "[encoded data removed]",
      "text/plain": [
       "<matplotlib.figure.Figure at 0x137dfa4ab00>"
      ]
     },
     "metadata": {},
     "output_type": "display_data"
    }
   ],
   "source": [
    "columns_impact = columns_impact.sort_values(by=['opportunity'], ascending = [False])\n",
    "columns_impact.reset_index(drop = True, inplace = True)\n",
    "plt.figure(figsize=(18,4))\n",
    "for num, col in enumerate(columns_impact['column_name'][:40]):\n",
    "    plt.plot([num-0.15, num-0.15], [columns_impact[columns_impact['column_name'] == col].loc[num, 'upper_l_0']\n",
    "                                    , columns_impact[columns_impact['column_name'] == col].loc[num, 'lower_l_0']], 'g')\n",
    "    plt.plot([num+0.15, num+0.15], [columns_impact[columns_impact['column_name'] == col].loc[num, 'upper_l_1']\n",
    "                                    , columns_impact[columns_impact['column_name'] == col].loc[num, 'lower_l_1']], 'b')\n",
    "plt.xticks(np.arange(num + 1), list(columns_impact['column_name']))\n",
    "plt.show()"
   ]
  },
  {
   "cell_type": "code",
   "execution_count": 12,
   "metadata": {
    "collapsed": true
   },
   "outputs": [],
   "source": [
    "my_folds = RepeatedStratifiedKFold(n_splits = 5, n_repeats = 10, random_state = 2)\n",
    "C = [1.0]\n",
    "hyperparameters = dict(C = C)\n",
    "cols_seq = list(range(2, 100))\n",
    "tuned_score = []\n",
    "for total_cols in cols_seq:\n",
    "    best_columns = list(\n",
    "    columns_impact['column_name'][:total_cols]\n",
    "    )\n",
    "    X_subset = train_data[best_columns]\n",
    "    y = train_data['target']\n",
    "    cl_log = LogisticRegression(penalty = 'l2', max_iter = 100)\n",
    "    grid_log = GridSearchCV(cl_log\n",
    "                            , hyperparameters\n",
    "                            , cv = my_folds\n",
    "                            , verbose = 0\n",
    "                            , scoring = 'roc_auc')\n",
    "    grid_log.fit(X_subset, y)\n",
    "    tuned_score.append(grid_log.best_score_)"
   ]
  },
  {
   "cell_type": "code",
   "execution_count": 13,
   "metadata": {},
   "outputs": [
    {
     "data": {
      "image/png": "[encoded data removed]",
      "text/plain": [
       "<matplotlib.figure.Figure at 0x137df9fe3c8>"
      ]
     },
     "metadata": {},
     "output_type": "display_data"
    }
   ],
   "source": [
    "s = '({0:2d}, {1:6.3f})'.format(cols_seq[tuned_score.index(max(tuned_score))], max(tuned_score))\n",
    "\n",
    "plt.plot(cols_seq, tuned_score, 'b')\n",
    "plt.title('The performance of Logistic Regression when\\nnumber of columns are varied in the model')\n",
    "plt.xlabel('Number of columns')\n",
    "plt.ylabel('ROCAUC score')\n",
    "plt.scatter(cols_seq[tuned_score.index(max(tuned_score))], max(tuned_score), marker='*', s = 100, c = 'g')\n",
    "plt.text(\n",
    "    cols_seq[tuned_score.index(max(tuned_score))] - 5\n",
    "    , max(tuned_score) - 0.03\n",
    "    , s\n",
    "    , fontsize=12\n",
    "    , color = 'green'\n",
    ")\n",
    "plt.show()"
   ]
  },
  {
   "cell_type": "code",
   "execution_count": 14,
   "metadata": {},
   "outputs": [
    {
     "name": "stdout",
     "output_type": "stream",
     "text": [
      "aucroc=0.882\n"
     ]
    }
   ],
   "source": [
    "best_columns = list(\n",
    "    columns_impact['column_name'][:30]\n",
    "    )\n",
    "train_data = train_data[best_columns + ['target']]\n",
    "\n",
    "train_X, val_X, train_y, val_y = train_test_split(\n",
    "    train_data[train_data.columns[train_data.columns != 'target']]\n",
    "    , train_data['target']\n",
    "    , random_state = 1\n",
    "    , test_size = 0.2\n",
    ")\n",
    "\n",
    "cl_log = LogisticRegression()\n",
    "cl_log.fit(train_X, train_y)\n",
    "\n",
    "yhat = cl_log.predict_proba(val_X)[:, 1]\n",
    "\n",
    "# calculate aucroc\n",
    "aucroc = roc_auc_score(val_y, yhat)\n",
    "\n",
    "print('aucroc=%.3f' % aucroc)"
   ]
  },
  {
   "cell_type": "code",
   "execution_count": 15,
   "metadata": {},
   "outputs": [],
   "source": [
    "cl_log_final = LogisticRegression()\n",
    "X_train_all = train_data[best_columns]\n",
    "y_train_all = train_data['target']\n",
    "X_test = test_data[best_columns]\n",
    "cl_log_final.fit(X_train_all, y_train_all)\n",
    "test_yhat = cl_log_final.predict_proba(X_test)[:, 1]\n",
    "submission_df = pd.DataFrame({'target' : test_yhat}, index = test_data.index)"
   ]
  },
  {
   "cell_type": "code",
   "execution_count": 16,
   "metadata": {
    "collapsed": true
   },
   "outputs": [],
   "source": [
    "submission_df.to_csv(f'{data_path}logreg_basic.csv', sep = ',')"
   ]
  },
  {
   "cell_type": "code",
   "execution_count": 17,
   "metadata": {
    "collapsed": true
   },
   "outputs": [],
   "source": [
    "my_folds = RepeatedStratifiedKFold(n_splits = 5, n_repeats = 10, random_state = 2)"
   ]
  },
  {
   "cell_type": "code",
   "execution_count": 18,
   "metadata": {},
   "outputs": [
    {
     "data": {
      "image/png": "[encoded data removed]",
      "text/plain": [
       "<matplotlib.figure.Figure at 0x137e5afa2b0>"
      ]
     },
     "metadata": {},
     "output_type": "display_data"
    }
   ],
   "source": [
    "C = np.linspace(start = 0.0001, stop = 1, num=51)\n",
    "hyperparameters = dict(C = C)\n",
    "cl_log = LogisticRegression(penalty = 'l2', max_iter = 100)\n",
    "grid_logl2 = GridSearchCV(cl_log\n",
    "                        , hyperparameters\n",
    "                        , cv = my_folds\n",
    "                        , verbose = 0\n",
    "                        , scoring = 'roc_auc'\n",
    "                        , return_train_score = True)\n",
    "grid_logl2.fit(X_train_all, y)\n",
    "\n",
    "test_scores = grid_logl2.cv_results_['mean_test_score']\n",
    "train_scores = grid_logl2.cv_results_['mean_train_score']\n",
    "param_C = grid_logl2.cv_results_['param_C']\n",
    "plt.plot(param_C, test_scores, label = 'test score')\n",
    "plt.plot(param_C, train_scores, label = 'train score')\n",
    "plt.xlabel('C')\n",
    "plt.ylabel('AUCROC')\n",
    "plt.legend()\n",
    "plt.show()"
   ]
  },
  {
   "cell_type": "code",
   "execution_count": 19,
   "metadata": {},
   "outputs": [
    {
     "name": "stdout",
     "output_type": "stream",
     "text": [
      "The best value of C:  0.04010\n",
      "The best AUCROC score:  0.870\n"
     ]
    }
   ],
   "source": [
    "print('The best value of C:  ' +\n",
    "      \"{:.5f}\".format(grid_logl2.best_params_['C']) +\n",
    "      '\\nThe best AUCROC score:  ' +\n",
    "      \"{:.3f}\".format(grid_logl2.best_score_)\n",
    "     )"
   ]
  },
  {
   "cell_type": "code",
   "execution_count": 20,
   "metadata": {
    "collapsed": true
   },
   "outputs": [],
   "source": [
    "cl_log_final = LogisticRegression(\n",
    "    penalty = 'l2'\n",
    "    , max_iter = 100\n",
    "    , C = 0.0401\n",
    ")\n",
    "cl_log_final.fit(X_train_all, y)\n",
    "test_yhat = cl_log_final.predict_proba(X_test)[:, 1]\n",
    "submission_df = pd.DataFrame({'target' : test_yhat}, index = test_data.index)\n",
    "submission_df.to_csv(f'{data_path}logreg_tunedl2.csv', sep = ',')"
   ]
  },
  {
   "cell_type": "code",
   "execution_count": 21,
   "metadata": {},
   "outputs": [
    {
     "data": {
      "image/png": "[encoded data removed]",
      "text/plain": [
       "<matplotlib.figure.Figure at 0x137e21b7e10>"
      ]
     },
     "metadata": {},
     "output_type": "display_data"
    }
   ],
   "source": [
    "C = np.linspace(start = 0.1, stop = 4.6, num=51)\n",
    "hyperparameters = dict(C = C)\n",
    "cl_log = LogisticRegression(penalty = 'l1', max_iter = 100)\n",
    "grid_logl1 = GridSearchCV(cl_log\n",
    "                        , hyperparameters\n",
    "                        , cv = my_folds\n",
    "                        , verbose = 0\n",
    "                        , scoring = 'roc_auc'\n",
    "                        , return_train_score = True)\n",
    "grid_logl1.fit(X_train_all, y)\n",
    "\n",
    "test_scores = grid_logl1.cv_results_['mean_test_score']\n",
    "train_scores = grid_logl1.cv_results_['mean_train_score']\n",
    "param_C = grid_logl1.cv_results_['param_C']\n",
    "plt.plot(param_C, test_scores, label = 'test score')\n",
    "plt.plot(param_C, train_scores, label = 'train score')\n",
    "plt.xlabel('C')\n",
    "plt.ylabel('AUCROC')\n",
    "plt.legend()\n",
    "plt.show()"
   ]
  },
  {
   "cell_type": "code",
   "execution_count": 22,
   "metadata": {},
   "outputs": [
    {
     "name": "stdout",
     "output_type": "stream",
     "text": [
      "The best value of C:  4.24000\n",
      "The best AUCROC score:  0.855\n"
     ]
    }
   ],
   "source": [
    "print('The best value of C:  ' +\n",
    "      \"{:.5f}\".format(grid_logl1.best_params_['C']) +\n",
    "      '\\nThe best AUCROC score:  ' +\n",
    "      \"{:.3f}\".format(grid_logl1.best_score_)\n",
    "     )"
   ]
  },
  {
   "cell_type": "code",
   "execution_count": 23,
   "metadata": {
    "collapsed": true
   },
   "outputs": [],
   "source": [
    "cl_log_final = LogisticRegression(\n",
    "    penalty = 'l1'\n",
    "    , max_iter = 100\n",
    "    , C = 4.424\n",
    ")\n",
    "cl_log_final.fit(X_train_all, y)\n",
    "test_yhat = cl_log_final.predict_proba(X_test)[:, 1]\n",
    "submission_df = pd.DataFrame({'target' : test_yhat}, index = test_data.index)\n",
    "submission_df.to_csv(f'{data_path}logreg_tunedl1.csv', sep = ',')"
   ]
  }
 ],
 "metadata": {
  "kernelspec": {
   "display_name": "Python 3",
   "language": "python",
   "name": "python3"
  },
  "language_info": {
   "codemirror_mode": {
    "name": "ipython",
    "version": 3
   },
   "file_extension": ".py",
   "mimetype": "text/x-python",
   "name": "python",
   "nbconvert_exporter": "python",
   "pygments_lexer": "ipython3",
   "version": "3.6.3"
  }
 },
 "nbformat": 4,
 "nbformat_minor": 2
}
