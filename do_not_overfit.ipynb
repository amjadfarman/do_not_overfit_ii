{
 "cells": [
  {
   "cell_type": "markdown",
   "metadata": {},
   "source": [
    "# Do not overfit -- Kaggle"
   ]
  },
  {
   "cell_type": "code",
   "execution_count": 1,
   "metadata": {
    "collapsed": true
   },
   "outputs": [],
   "source": [
    "import pandas as pd\n",
    "import numpy as np\n",
    "import matplotlib.pyplot as plt\n",
    "import seaborn as sb\n",
    "from sklearn.ensemble import RandomForestClassifier\n",
    "from sklearn.linear_model import LogisticRegression\n",
    "from sklearn.model_selection import train_test_split, RepeatedStratifiedKFold, GridSearchCV\n",
    "from sklearn.metrics import roc_auc_score"
   ]
  },
  {
   "cell_type": "code",
   "execution_count": 2,
   "metadata": {
    "collapsed": true
   },
   "outputs": [],
   "source": [
    "data_path = 'data/'\n",
    "train_data = pd.read_csv(f'{data_path}train.csv', index_col = 'id')\n",
    "test_data = pd.read_csv(f'{data_path}test.csv', index_col = 'id')"
   ]
  },
  {
   "cell_type": "code",
   "execution_count": 3,
   "metadata": {},
   "outputs": [
    {
     "data": {
      "text/html": [
       "<div>\n",
       "<style>\n",
       "    .dataframe thead tr:only-child th {\n",
       "        text-align: right;\n",
       "    }\n",
       "\n",
       "    .dataframe thead th {\n",
       "        text-align: left;\n",
       "    }\n",
       "\n",
       "    .dataframe tbody tr th {\n",
       "        vertical-align: top;\n",
       "    }\n",
       "</style>\n",
       "<table border=\"1\" class=\"dataframe\">\n",
       "  <thead>\n",
       "    <tr style=\"text-align: right;\">\n",
       "      <th></th>\n",
       "      <th>level_0</th>\n",
       "      <th>level_1</th>\n",
       "      <th>0</th>\n",
       "    </tr>\n",
       "  </thead>\n",
       "  <tbody>\n",
       "    <tr>\n",
       "      <th>89690</th>\n",
       "      <td>79</td>\n",
       "      <td>187</td>\n",
       "      <td>0.243916</td>\n",
       "    </tr>\n",
       "    <tr>\n",
       "      <th>89691</th>\n",
       "      <td>187</td>\n",
       "      <td>79</td>\n",
       "      <td>0.243916</td>\n",
       "    </tr>\n",
       "    <tr>\n",
       "      <th>89692</th>\n",
       "      <td>140</td>\n",
       "      <td>187</td>\n",
       "      <td>0.244012</td>\n",
       "    </tr>\n",
       "    <tr>\n",
       "      <th>89693</th>\n",
       "      <td>187</td>\n",
       "      <td>140</td>\n",
       "      <td>0.244012</td>\n",
       "    </tr>\n",
       "    <tr>\n",
       "      <th>89694</th>\n",
       "      <td>28</td>\n",
       "      <td>22</td>\n",
       "      <td>0.246062</td>\n",
       "    </tr>\n",
       "    <tr>\n",
       "      <th>89695</th>\n",
       "      <td>22</td>\n",
       "      <td>28</td>\n",
       "      <td>0.246062</td>\n",
       "    </tr>\n",
       "    <tr>\n",
       "      <th>89696</th>\n",
       "      <td>193</td>\n",
       "      <td>101</td>\n",
       "      <td>0.252825</td>\n",
       "    </tr>\n",
       "    <tr>\n",
       "      <th>89697</th>\n",
       "      <td>101</td>\n",
       "      <td>193</td>\n",
       "      <td>0.252825</td>\n",
       "    </tr>\n",
       "    <tr>\n",
       "      <th>89698</th>\n",
       "      <td>32</td>\n",
       "      <td>75</td>\n",
       "      <td>0.259315</td>\n",
       "    </tr>\n",
       "    <tr>\n",
       "      <th>89699</th>\n",
       "      <td>75</td>\n",
       "      <td>32</td>\n",
       "      <td>0.259315</td>\n",
       "    </tr>\n",
       "  </tbody>\n",
       "</table>\n",
       "</div>"
      ],
      "text/plain": [
       "      level_0 level_1         0\n",
       "89690      79     187  0.243916\n",
       "89691     187      79  0.243916\n",
       "89692     140     187  0.244012\n",
       "89693     187     140  0.244012\n",
       "89694      28      22  0.246062\n",
       "89695      22      28  0.246062\n",
       "89696     193     101  0.252825\n",
       "89697     101     193  0.252825\n",
       "89698      32      75  0.259315\n",
       "89699      75      32  0.259315"
      ]
     },
     "execution_count": 3,
     "metadata": {},
     "output_type": "execute_result"
    }
   ],
   "source": [
    "corrs = train_data.drop(labels = ['target'], axis = 1).corr().abs().unstack().sort_values(kind=\"quicksort\").reset_index()\n",
    "corrs = corrs[corrs['level_0'] != corrs['level_1']]\n",
    "corrs.tail(10)"
   ]
  },
  {
   "cell_type": "code",
   "execution_count": 4,
   "metadata": {},
   "outputs": [
    {
     "data": {
      "text/plain": [
       "1.0    160\n",
       "0.0     90\n",
       "Name: target, dtype: int64"
      ]
     },
     "execution_count": 4,
     "metadata": {},
     "output_type": "execute_result"
    }
   ],
   "source": [
    "train_data['target'].value_counts()"
   ]
  },
  {
   "cell_type": "code",
   "execution_count": 5,
   "metadata": {
    "collapsed": true
   },
   "outputs": [],
   "source": [
    "columns_impact = pd.DataFrame(\n",
    "    columns = ['column_name', 'mean_impact_on_0', 'mean_impact_on_1', 'std_0', 'std_1']\n",
    ")\n",
    "for col in train_data.columns[train_data.columns != 'target']:\n",
    "    columns_impact = columns_impact.append(dict(\n",
    "        column_name = col\n",
    "        , mean_impact_on_0 = train_data[train_data['target'] == 0][col].mean()\n",
    "        , mean_impact_on_1 = train_data[train_data['target'] == 1][col].mean()\n",
    "        , std_0 = train_data[train_data['target'] == 0][col].std()\n",
    "        , std_1 = train_data[train_data['target'] == 1][col].std()\n",
    "    )\n",
    "                                          , ignore_index = True)"
   ]
  },
  {
   "cell_type": "code",
   "execution_count": 6,
   "metadata": {},
   "outputs": [],
   "source": [
    "columns_impact['upper_l_0'] = columns_impact['mean_impact_on_0'] + 1.96 * columns_impact['std_0']\n",
    "columns_impact['upper_l_1'] = columns_impact['mean_impact_on_1'] + 1.96 * columns_impact['std_1']\n",
    "columns_impact['lower_l_0'] = columns_impact['mean_impact_on_0'] - 1.96 * columns_impact['std_0']\n",
    "columns_impact['lower_l_1'] = columns_impact['mean_impact_on_1'] - 1.96 * columns_impact['std_1']\n",
    "columns_impact['overlap'] = columns_impact.apply(\n",
    "lambda row: min(row['upper_l_0'], row['upper_l_1']) - max(row['lower_l_0'], row['lower_l_1'])\n",
    "    , axis = 1\n",
    ")\n",
    "columns_impact['spread'] = columns_impact.apply(\n",
    "lambda row: max(row['upper_l_0'], row['upper_l_1']) - min(row['lower_l_0'], row['lower_l_1'])\n",
    "    , axis = 1\n",
    ")\n",
    "columns_impact['opportunity'] = columns_impact['spread'] - columns_impact['overlap']\n",
    "columns_impact['oppor_factor'] = columns_impact.apply(\n",
    "lambda row: 0 if (((row['upper_l_0'] > row['upper_l_1']) and (row['lower_l_0'] < row['lower_l_1']))\n",
    "    or ((row['upper_l_0'] < row['upper_l_1']) and (row['lower_l_0'] > row['lower_l_1']))) else 1\n",
    "    , axis = 1\n",
    ")\n",
    "columns_impact['opportunity'] = columns_impact['opportunity'] * columns_impact['oppor_factor']"
   ]
  },
  {
   "cell_type": "code",
   "execution_count": 7,
   "metadata": {},
   "outputs": [
    {
     "data": {
      "image/png": "[encoded data removed]",
      "text/plain": [
       "<matplotlib.figure.Figure at 0x1d7425dd6d8>"
      ]
     },
     "metadata": {},
     "output_type": "display_data"
    }
   ],
   "source": [
    "columns_impact = columns_impact.sort_values(by=['opportunity'], ascending = [False])\n",
    "\n",
    "plt.figure(figsize=(18,4))\n",
    "for num, col in enumerate(columns_impact['column_name'][:40]):\n",
    "    plt.plot([num-0.15, num-0.15], [columns_impact[columns_impact['column_name'] == col].loc[int(col), 'upper_l_0']\n",
    "                                    , columns_impact[columns_impact['column_name'] == col].loc[int(col), 'lower_l_0']], 'g')\n",
    "    plt.plot([num+0.15, num+0.15], [columns_impact[columns_impact['column_name'] == col].loc[int(col), 'upper_l_1']\n",
    "                                    , columns_impact[columns_impact['column_name'] == col].loc[int(col), 'lower_l_1']], 'b')\n",
    "plt.xticks(np.arange(num + 1), list(columns_impact['column_name']))\n",
    "plt.show()"
   ]
  },
  {
   "cell_type": "code",
   "execution_count": 8,
   "metadata": {},
   "outputs": [
    {
     "data": {
      "text/html": [
       "<div>\n",
       "<style>\n",
       "    .dataframe thead tr:only-child th {\n",
       "        text-align: right;\n",
       "    }\n",
       "\n",
       "    .dataframe thead th {\n",
       "        text-align: left;\n",
       "    }\n",
       "\n",
       "    .dataframe tbody tr th {\n",
       "        vertical-align: top;\n",
       "    }\n",
       "</style>\n",
       "<table border=\"1\" class=\"dataframe\">\n",
       "  <thead>\n",
       "    <tr style=\"text-align: right;\">\n",
       "      <th></th>\n",
       "      <th>33</th>\n",
       "      <th>65</th>\n",
       "      <th>117</th>\n",
       "      <th>217</th>\n",
       "      <th>91</th>\n",
       "      <th>295</th>\n",
       "      <th>24</th>\n",
       "      <th>73</th>\n",
       "      <th>80</th>\n",
       "      <th>199</th>\n",
       "      <th>...</th>\n",
       "      <th>105</th>\n",
       "      <th>127</th>\n",
       "      <th>98</th>\n",
       "      <th>89</th>\n",
       "      <th>180</th>\n",
       "      <th>119</th>\n",
       "      <th>151</th>\n",
       "      <th>156</th>\n",
       "      <th>281</th>\n",
       "      <th>target</th>\n",
       "    </tr>\n",
       "    <tr>\n",
       "      <th>id</th>\n",
       "      <th></th>\n",
       "      <th></th>\n",
       "      <th></th>\n",
       "      <th></th>\n",
       "      <th></th>\n",
       "      <th></th>\n",
       "      <th></th>\n",
       "      <th></th>\n",
       "      <th></th>\n",
       "      <th></th>\n",
       "      <th></th>\n",
       "      <th></th>\n",
       "      <th></th>\n",
       "      <th></th>\n",
       "      <th></th>\n",
       "      <th></th>\n",
       "      <th></th>\n",
       "      <th></th>\n",
       "      <th></th>\n",
       "      <th></th>\n",
       "      <th></th>\n",
       "    </tr>\n",
       "  </thead>\n",
       "  <tbody>\n",
       "    <tr>\n",
       "      <th>0</th>\n",
       "      <td>0.385</td>\n",
       "      <td>-0.770</td>\n",
       "      <td>0.710</td>\n",
       "      <td>1.187</td>\n",
       "      <td>0.019</td>\n",
       "      <td>-2.097</td>\n",
       "      <td>1.763</td>\n",
       "      <td>-2.464</td>\n",
       "      <td>1.851</td>\n",
       "      <td>1.716</td>\n",
       "      <td>...</td>\n",
       "      <td>0.158</td>\n",
       "      <td>-1.366</td>\n",
       "      <td>-1.556</td>\n",
       "      <td>1.420</td>\n",
       "      <td>0.030</td>\n",
       "      <td>1.920</td>\n",
       "      <td>0.671</td>\n",
       "      <td>-0.607</td>\n",
       "      <td>1.253</td>\n",
       "      <td>1.0</td>\n",
       "    </tr>\n",
       "    <tr>\n",
       "      <th>1</th>\n",
       "      <td>-2.721</td>\n",
       "      <td>1.221</td>\n",
       "      <td>0.987</td>\n",
       "      <td>0.216</td>\n",
       "      <td>1.188</td>\n",
       "      <td>-1.624</td>\n",
       "      <td>-1.519</td>\n",
       "      <td>-1.190</td>\n",
       "      <td>-0.759</td>\n",
       "      <td>-2.414</td>\n",
       "      <td>...</td>\n",
       "      <td>-0.475</td>\n",
       "      <td>-0.625</td>\n",
       "      <td>-0.305</td>\n",
       "      <td>-1.822</td>\n",
       "      <td>0.643</td>\n",
       "      <td>-0.373</td>\n",
       "      <td>-1.382</td>\n",
       "      <td>-0.075</td>\n",
       "      <td>-0.307</td>\n",
       "      <td>0.0</td>\n",
       "    </tr>\n",
       "    <tr>\n",
       "      <th>2</th>\n",
       "      <td>0.924</td>\n",
       "      <td>0.943</td>\n",
       "      <td>-0.384</td>\n",
       "      <td>0.269</td>\n",
       "      <td>0.269</td>\n",
       "      <td>-1.165</td>\n",
       "      <td>1.786</td>\n",
       "      <td>1.910</td>\n",
       "      <td>0.758</td>\n",
       "      <td>0.288</td>\n",
       "      <td>...</td>\n",
       "      <td>0.208</td>\n",
       "      <td>-0.517</td>\n",
       "      <td>0.074</td>\n",
       "      <td>-1.488</td>\n",
       "      <td>-1.710</td>\n",
       "      <td>0.098</td>\n",
       "      <td>0.388</td>\n",
       "      <td>-0.657</td>\n",
       "      <td>0.037</td>\n",
       "      <td>1.0</td>\n",
       "    </tr>\n",
       "    <tr>\n",
       "      <th>3</th>\n",
       "      <td>0.394</td>\n",
       "      <td>-0.706</td>\n",
       "      <td>-0.152</td>\n",
       "      <td>0.066</td>\n",
       "      <td>1.103</td>\n",
       "      <td>0.467</td>\n",
       "      <td>0.365</td>\n",
       "      <td>0.606</td>\n",
       "      <td>0.030</td>\n",
       "      <td>1.089</td>\n",
       "      <td>...</td>\n",
       "      <td>0.764</td>\n",
       "      <td>1.077</td>\n",
       "      <td>-2.284</td>\n",
       "      <td>1.188</td>\n",
       "      <td>-0.482</td>\n",
       "      <td>-0.985</td>\n",
       "      <td>0.223</td>\n",
       "      <td>0.492</td>\n",
       "      <td>0.322</td>\n",
       "      <td>1.0</td>\n",
       "    </tr>\n",
       "    <tr>\n",
       "      <th>4</th>\n",
       "      <td>0.037</td>\n",
       "      <td>0.357</td>\n",
       "      <td>1.027</td>\n",
       "      <td>0.110</td>\n",
       "      <td>0.892</td>\n",
       "      <td>1.378</td>\n",
       "      <td>0.024</td>\n",
       "      <td>-0.937</td>\n",
       "      <td>-0.187</td>\n",
       "      <td>0.084</td>\n",
       "      <td>...</td>\n",
       "      <td>0.689</td>\n",
       "      <td>-1.474</td>\n",
       "      <td>0.749</td>\n",
       "      <td>0.218</td>\n",
       "      <td>0.842</td>\n",
       "      <td>1.037</td>\n",
       "      <td>-1.302</td>\n",
       "      <td>1.409</td>\n",
       "      <td>1.408</td>\n",
       "      <td>1.0</td>\n",
       "    </tr>\n",
       "  </tbody>\n",
       "</table>\n",
       "<p>5 rows × 51 columns</p>\n",
       "</div>"
      ],
      "text/plain": [
       "       33     65    117    217     91    295     24     73     80    199  \\\n",
       "id                                                                         \n",
       "0   0.385 -0.770  0.710  1.187  0.019 -2.097  1.763 -2.464  1.851  1.716   \n",
       "1  -2.721  1.221  0.987  0.216  1.188 -1.624 -1.519 -1.190 -0.759 -2.414   \n",
       "2   0.924  0.943 -0.384  0.269  0.269 -1.165  1.786  1.910  0.758  0.288   \n",
       "3   0.394 -0.706 -0.152  0.066  1.103  0.467  0.365  0.606  0.030  1.089   \n",
       "4   0.037  0.357  1.027  0.110  0.892  1.378  0.024 -0.937 -0.187  0.084   \n",
       "\n",
       "     ...      105    127     98     89    180    119    151    156    281  \\\n",
       "id   ...                                                                    \n",
       "0    ...    0.158 -1.366 -1.556  1.420  0.030  1.920  0.671 -0.607  1.253   \n",
       "1    ...   -0.475 -0.625 -0.305 -1.822  0.643 -0.373 -1.382 -0.075 -0.307   \n",
       "2    ...    0.208 -0.517  0.074 -1.488 -1.710  0.098  0.388 -0.657  0.037   \n",
       "3    ...    0.764  1.077 -2.284  1.188 -0.482 -0.985  0.223  0.492  0.322   \n",
       "4    ...    0.689 -1.474  0.749  0.218  0.842  1.037 -1.302  1.409  1.408   \n",
       "\n",
       "    target  \n",
       "id          \n",
       "0      1.0  \n",
       "1      0.0  \n",
       "2      1.0  \n",
       "3      1.0  \n",
       "4      1.0  \n",
       "\n",
       "[5 rows x 51 columns]"
      ]
     },
     "execution_count": 8,
     "metadata": {},
     "output_type": "execute_result"
    }
   ],
   "source": [
    "best_columns = list(\n",
    "    columns_impact['column_name'][:50]\n",
    ")\n",
    "train_data = train_data[best_columns + ['target']]\n",
    "train_data.head()"
   ]
  },
  {
   "cell_type": "code",
   "execution_count": 9,
   "metadata": {},
   "outputs": [
    {
     "name": "stdout",
     "output_type": "stream",
     "text": [
      "aucroc=0.897\n"
     ]
    }
   ],
   "source": [
    "train_X, val_X, train_y, val_y = train_test_split(\n",
    "    train_data[train_data.columns[train_data.columns != 'target']]\n",
    "    , train_data['target']\n",
    "    , random_state = 1\n",
    "    , test_size = 0.2\n",
    ")\n",
    "\n",
    "cl_log = LogisticRegression()\n",
    "cl_log.fit(train_X, train_y)\n",
    "\n",
    "yhat = cl_log.predict_proba(val_X)[:, 1]\n",
    "\n",
    "# calculate aucroc\n",
    "aucroc = roc_auc_score(val_y, yhat)\n",
    "\n",
    "print('aucroc=%.3f' % aucroc)"
   ]
  },
  {
   "cell_type": "code",
   "execution_count": 10,
   "metadata": {
    "collapsed": true
   },
   "outputs": [],
   "source": [
    "cl_log_final = LogisticRegression()\n",
    "cl_log_final.fit(train_data[train_data.columns[train_data.columns != 'target']], train_data['target'])\n",
    "test_yhat = cl_log_final.predict_proba(test_data[train_data.columns[train_data.columns != 'target']])[:, 1]\n",
    "submission_df = pd.DataFrame({'target' : test_yhat}, index = test_data.index)"
   ]
  },
  {
   "cell_type": "code",
   "execution_count": 11,
   "metadata": {
    "collapsed": true
   },
   "outputs": [],
   "source": [
    "submission_df.to_csv(f'{data_path}logreg_basic.csv', sep = ',')"
   ]
  },
  {
   "cell_type": "code",
   "execution_count": 12,
   "metadata": {
    "collapsed": true
   },
   "outputs": [],
   "source": [
    "my_folds = RepeatedStratifiedKFold(n_splits = 5, n_repeats = 10, random_state = 2)"
   ]
  },
  {
   "cell_type": "code",
   "execution_count": 13,
   "metadata": {},
   "outputs": [
    {
     "data": {
      "image/png": "[encoded data removed]",
      "text/plain": [
       "<matplotlib.figure.Figure at 0x1d743123390>"
      ]
     },
     "metadata": {},
     "output_type": "display_data"
    }
   ],
   "source": [
    "C = np.linspace(start = 0.0001, stop = 1, num=51)\n",
    "hyperparameters = dict(C = C)\n",
    "cl_log = LogisticRegression(penalty = 'l2', max_iter = 100)\n",
    "grid_logl2 = GridSearchCV(cl_log\n",
    "                        , hyperparameters\n",
    "                        , cv = my_folds\n",
    "                        , verbose = 0\n",
    "                        , scoring = 'roc_auc'\n",
    "                        , return_train_score = True)\n",
    "grid_logl2.fit(train_data[train_data.columns[train_data.columns != 'target']], train_data['target'])\n",
    "\n",
    "test_scores = grid_logl2.cv_results_['mean_test_score']\n",
    "train_scores = grid_logl2.cv_results_['mean_train_score']\n",
    "param_C = grid_logl2.cv_results_['param_C']\n",
    "plt.plot(param_C, test_scores, label = 'test score')\n",
    "plt.plot(param_C, train_scores, label = 'train score')\n",
    "plt.xlabel('C')\n",
    "plt.ylabel('AUCROC')\n",
    "plt.legend()\n",
    "plt.show()"
   ]
  },
  {
   "cell_type": "code",
   "execution_count": 14,
   "metadata": {},
   "outputs": [
    {
     "name": "stdout",
     "output_type": "stream",
     "text": [
      "The best value of C:  0.00010\n",
      "The best AUCROC score:  0.921\n"
     ]
    }
   ],
   "source": [
    "print('The best value of C:  ' +\n",
    "      \"{:.5f}\".format(grid_logl2.best_params_['C']) +\n",
    "      '\\nThe best AUCROC score:  ' +\n",
    "      \"{:.3f}\".format(grid_logl2.best_score_)\n",
    "     )"
   ]
  },
  {
   "cell_type": "code",
   "execution_count": 15,
   "metadata": {
    "collapsed": true
   },
   "outputs": [],
   "source": [
    "cl_log_final = LogisticRegression(\n",
    "    penalty = 'l2'\n",
    "    , max_iter = 100\n",
    "    , C = 0.0001\n",
    ")\n",
    "cl_log_final.fit(train_data[train_data.columns[train_data.columns != 'target']], train_data['target'])\n",
    "test_yhat = cl_log_final.predict_proba(test_data[train_data.columns[train_data.columns != 'target']])[:, 1]\n",
    "submission_df = pd.DataFrame({'target' : test_yhat}, index = test_data.index)\n",
    "submission_df.to_csv(f'{data_path}logreg_tunedl2.csv', sep = ',')"
   ]
  },
  {
   "cell_type": "code",
   "execution_count": 16,
   "metadata": {},
   "outputs": [
    {
     "data": {
      "image/png": "[encoded data removed]",
      "text/plain": [
       "<matplotlib.figure.Figure at 0x1d7426627b8>"
      ]
     },
     "metadata": {},
     "output_type": "display_data"
    }
   ],
   "source": [
    "C = np.linspace(start = 0.0001, stop = 1, num=51)\n",
    "hyperparameters = dict(C = C)\n",
    "cl_log = LogisticRegression(penalty = 'l1', max_iter = 100)\n",
    "grid_logl1 = GridSearchCV(cl_log\n",
    "                        , hyperparameters\n",
    "                        , cv = my_folds\n",
    "                        , verbose = 0\n",
    "                        , scoring = 'roc_auc'\n",
    "                        , return_train_score = True)\n",
    "grid_logl1.fit(train_data[train_data.columns[train_data.columns != 'target']], train_data['target'])\n",
    "\n",
    "test_scores = grid_logl1.cv_results_['mean_test_score']\n",
    "train_scores = grid_logl1.cv_results_['mean_train_score']\n",
    "param_C = grid_logl1.cv_results_['param_C']\n",
    "plt.plot(param_C, test_scores, label = 'test score')\n",
    "plt.plot(param_C, train_scores, label = 'train score')\n",
    "plt.xlabel('C')\n",
    "plt.ylabel('AUCROC')\n",
    "plt.legend()\n",
    "plt.show()"
   ]
  },
  {
   "cell_type": "code",
   "execution_count": 17,
   "metadata": {},
   "outputs": [
    {
     "name": "stdout",
     "output_type": "stream",
     "text": [
      "The best value of C:  0.90001\n",
      "The best AUCROC score:  0.890\n"
     ]
    }
   ],
   "source": [
    "print('The best value of C:  ' +\n",
    "      \"{:.5f}\".format(grid_logl1.best_params_['C']) +\n",
    "      '\\nThe best AUCROC score:  ' +\n",
    "      \"{:.3f}\".format(grid_logl1.best_score_)\n",
    "     )"
   ]
  },
  {
   "cell_type": "code",
   "execution_count": 18,
   "metadata": {
    "collapsed": true
   },
   "outputs": [],
   "source": [
    "cl_log_final = LogisticRegression(\n",
    "    penalty = 'l1'\n",
    "    , max_iter = 100\n",
    "    , C = 0.90001\n",
    ")\n",
    "cl_log_final.fit(train_data[train_data.columns[train_data.columns != 'target']], train_data['target'])\n",
    "test_yhat = cl_log_final.predict_proba(test_data[train_data.columns[train_data.columns != 'target']])[:, 1]\n",
    "submission_df = pd.DataFrame({'target' : test_yhat}, index = test_data.index)\n",
    "submission_df.to_csv(f'{data_path}logreg_tunedl1.csv', sep = ',')"
   ]
  }
 ],
 "metadata": {
  "kernelspec": {
   "display_name": "Python 3",
   "language": "python",
   "name": "python3"
  },
  "language_info": {
   "codemirror_mode": {
    "name": "ipython",
    "version": 3
   },
   "file_extension": ".py",
   "mimetype": "text/x-python",
   "name": "python",
   "nbconvert_exporter": "python",
   "pygments_lexer": "ipython3",
   "version": "3.6.3"
  }
 },
 "nbformat": 4,
 "nbformat_minor": 2
}
