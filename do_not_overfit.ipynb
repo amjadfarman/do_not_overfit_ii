{
 "cells": [
  {
   "cell_type": "markdown",
   "metadata": {},
   "source": [
    "# Do not overfit -- Kaggle"
   ]
  },
  {
   "cell_type": "code",
   "execution_count": 1,
   "metadata": {
    "collapsed": true
   },
   "outputs": [],
   "source": [
    "import pandas as pd\n",
    "import numpy as np\n",
    "import matplotlib.pyplot as plt\n",
    "import seaborn as sb\n",
    "from sklearn.ensemble import RandomForestClassifier\n",
    "from sklearn.linear_model import LogisticRegression\n",
    "from sklearn.model_selection import train_test_split, RepeatedStratifiedKFold, GridSearchCV\n",
    "from sklearn.metrics import roc_auc_score"
   ]
  },
  {
   "cell_type": "code",
   "execution_count": 2,
   "metadata": {
    "collapsed": true
   },
   "outputs": [],
   "source": [
    "data_path = 'data/'\n",
    "train_data = pd.read_csv(f'{data_path}train.csv', index_col = 'id')\n",
    "test_data = pd.read_csv(f'{data_path}test.csv', index_col = 'id')"
   ]
  },
  {
   "cell_type": "code",
   "execution_count": 3,
   "metadata": {},
   "outputs": [
    {
     "data": {
      "text/html": [
       "<div>\n",
       "<style>\n",
       "    .dataframe thead tr:only-child th {\n",
       "        text-align: right;\n",
       "    }\n",
       "\n",
       "    .dataframe thead th {\n",
       "        text-align: left;\n",
       "    }\n",
       "\n",
       "    .dataframe tbody tr th {\n",
       "        vertical-align: top;\n",
       "    }\n",
       "</style>\n",
       "<table border=\"1\" class=\"dataframe\">\n",
       "  <thead>\n",
       "    <tr style=\"text-align: right;\">\n",
       "      <th></th>\n",
       "      <th>level_0</th>\n",
       "      <th>level_1</th>\n",
       "      <th>0</th>\n",
       "    </tr>\n",
       "  </thead>\n",
       "  <tbody>\n",
       "    <tr>\n",
       "      <th>89690</th>\n",
       "      <td>79</td>\n",
       "      <td>187</td>\n",
       "      <td>0.243916</td>\n",
       "    </tr>\n",
       "    <tr>\n",
       "      <th>89691</th>\n",
       "      <td>187</td>\n",
       "      <td>79</td>\n",
       "      <td>0.243916</td>\n",
       "    </tr>\n",
       "    <tr>\n",
       "      <th>89692</th>\n",
       "      <td>140</td>\n",
       "      <td>187</td>\n",
       "      <td>0.244012</td>\n",
       "    </tr>\n",
       "    <tr>\n",
       "      <th>89693</th>\n",
       "      <td>187</td>\n",
       "      <td>140</td>\n",
       "      <td>0.244012</td>\n",
       "    </tr>\n",
       "    <tr>\n",
       "      <th>89694</th>\n",
       "      <td>28</td>\n",
       "      <td>22</td>\n",
       "      <td>0.246062</td>\n",
       "    </tr>\n",
       "    <tr>\n",
       "      <th>89695</th>\n",
       "      <td>22</td>\n",
       "      <td>28</td>\n",
       "      <td>0.246062</td>\n",
       "    </tr>\n",
       "    <tr>\n",
       "      <th>89696</th>\n",
       "      <td>193</td>\n",
       "      <td>101</td>\n",
       "      <td>0.252825</td>\n",
       "    </tr>\n",
       "    <tr>\n",
       "      <th>89697</th>\n",
       "      <td>101</td>\n",
       "      <td>193</td>\n",
       "      <td>0.252825</td>\n",
       "    </tr>\n",
       "    <tr>\n",
       "      <th>89698</th>\n",
       "      <td>32</td>\n",
       "      <td>75</td>\n",
       "      <td>0.259315</td>\n",
       "    </tr>\n",
       "    <tr>\n",
       "      <th>89699</th>\n",
       "      <td>75</td>\n",
       "      <td>32</td>\n",
       "      <td>0.259315</td>\n",
       "    </tr>\n",
       "  </tbody>\n",
       "</table>\n",
       "</div>"
      ],
      "text/plain": [
       "      level_0 level_1         0\n",
       "89690      79     187  0.243916\n",
       "89691     187      79  0.243916\n",
       "89692     140     187  0.244012\n",
       "89693     187     140  0.244012\n",
       "89694      28      22  0.246062\n",
       "89695      22      28  0.246062\n",
       "89696     193     101  0.252825\n",
       "89697     101     193  0.252825\n",
       "89698      32      75  0.259315\n",
       "89699      75      32  0.259315"
      ]
     },
     "execution_count": 3,
     "metadata": {},
     "output_type": "execute_result"
    }
   ],
   "source": [
    "corrs = train_data.drop(labels = ['target'], axis = 1).corr().abs().unstack().sort_values(kind=\"quicksort\").reset_index()\n",
    "corrs = corrs[corrs['level_0'] != corrs['level_1']]\n",
    "corrs.tail(10)"
   ]
  },
  {
   "cell_type": "code",
   "execution_count": 4,
   "metadata": {},
   "outputs": [
    {
     "data": {
      "text/plain": [
       "1.0    160\n",
       "0.0     90\n",
       "Name: target, dtype: int64"
      ]
     },
     "execution_count": 4,
     "metadata": {},
     "output_type": "execute_result"
    }
   ],
   "source": [
    "train_data['target'].value_counts()"
   ]
  },
  {
   "cell_type": "code",
   "execution_count": 5,
   "metadata": {
    "collapsed": true
   },
   "outputs": [],
   "source": [
    "columns_impact = pd.DataFrame(\n",
    "    columns = ['column_name', 'mean_impact_on_0', 'mean_impact_on_1', 'std_0', 'std_1']\n",
    ")\n",
    "for col in train_data.columns[train_data.columns != 'target']:\n",
    "    columns_impact = columns_impact.append(dict(\n",
    "        column_name = col\n",
    "        , mean_impact_on_0 = train_data[train_data['target'] == 0][col].mean()\n",
    "        , mean_impact_on_1 = train_data[train_data['target'] == 1][col].mean()\n",
    "        , std_0 = train_data[train_data['target'] == 0][col].std()\n",
    "        , std_1 = train_data[train_data['target'] == 1][col].std()\n",
    "    )\n",
    "                                          , ignore_index = True)"
   ]
  },
  {
   "cell_type": "code",
   "execution_count": 6,
   "metadata": {},
   "outputs": [
    {
     "data": {
      "text/html": [
       "<div>\n",
       "<style>\n",
       "    .dataframe thead tr:only-child th {\n",
       "        text-align: right;\n",
       "    }\n",
       "\n",
       "    .dataframe thead th {\n",
       "        text-align: left;\n",
       "    }\n",
       "\n",
       "    .dataframe tbody tr th {\n",
       "        vertical-align: top;\n",
       "    }\n",
       "</style>\n",
       "<table border=\"1\" class=\"dataframe\">\n",
       "  <thead>\n",
       "    <tr style=\"text-align: right;\">\n",
       "      <th></th>\n",
       "      <th>33</th>\n",
       "      <th>65</th>\n",
       "      <th>82</th>\n",
       "      <th>129</th>\n",
       "      <th>226</th>\n",
       "      <th>245</th>\n",
       "      <th>91</th>\n",
       "      <th>63</th>\n",
       "      <th>182</th>\n",
       "      <th>287</th>\n",
       "      <th>...</th>\n",
       "      <th>81</th>\n",
       "      <th>142</th>\n",
       "      <th>165</th>\n",
       "      <th>98</th>\n",
       "      <th>143</th>\n",
       "      <th>271</th>\n",
       "      <th>6</th>\n",
       "      <th>76</th>\n",
       "      <th>272</th>\n",
       "      <th>target</th>\n",
       "    </tr>\n",
       "    <tr>\n",
       "      <th>id</th>\n",
       "      <th></th>\n",
       "      <th></th>\n",
       "      <th></th>\n",
       "      <th></th>\n",
       "      <th></th>\n",
       "      <th></th>\n",
       "      <th></th>\n",
       "      <th></th>\n",
       "      <th></th>\n",
       "      <th></th>\n",
       "      <th></th>\n",
       "      <th></th>\n",
       "      <th></th>\n",
       "      <th></th>\n",
       "      <th></th>\n",
       "      <th></th>\n",
       "      <th></th>\n",
       "      <th></th>\n",
       "      <th></th>\n",
       "      <th></th>\n",
       "      <th></th>\n",
       "    </tr>\n",
       "  </thead>\n",
       "  <tbody>\n",
       "    <tr>\n",
       "      <th>0</th>\n",
       "      <td>0.385</td>\n",
       "      <td>-0.770</td>\n",
       "      <td>-0.380</td>\n",
       "      <td>0.278</td>\n",
       "      <td>0.655</td>\n",
       "      <td>-2.851</td>\n",
       "      <td>0.019</td>\n",
       "      <td>0.933</td>\n",
       "      <td>0.860</td>\n",
       "      <td>-0.284</td>\n",
       "      <td>...</td>\n",
       "      <td>1.292</td>\n",
       "      <td>-0.067</td>\n",
       "      <td>-0.565</td>\n",
       "      <td>-1.556</td>\n",
       "      <td>-0.661</td>\n",
       "      <td>-1.320</td>\n",
       "      <td>-0.236</td>\n",
       "      <td>0.219</td>\n",
       "      <td>-1.516</td>\n",
       "      <td>1.0</td>\n",
       "    </tr>\n",
       "    <tr>\n",
       "      <th>1</th>\n",
       "      <td>-2.721</td>\n",
       "      <td>1.221</td>\n",
       "      <td>0.406</td>\n",
       "      <td>1.111</td>\n",
       "      <td>-0.124</td>\n",
       "      <td>-0.187</td>\n",
       "      <td>1.188</td>\n",
       "      <td>1.808</td>\n",
       "      <td>-0.607</td>\n",
       "      <td>0.053</td>\n",
       "      <td>...</td>\n",
       "      <td>-0.661</td>\n",
       "      <td>0.495</td>\n",
       "      <td>0.166</td>\n",
       "      <td>-0.305</td>\n",
       "      <td>-0.822</td>\n",
       "      <td>-2.771</td>\n",
       "      <td>1.172</td>\n",
       "      <td>0.002</td>\n",
       "      <td>-0.516</td>\n",
       "      <td>0.0</td>\n",
       "    </tr>\n",
       "    <tr>\n",
       "      <th>2</th>\n",
       "      <td>0.924</td>\n",
       "      <td>0.943</td>\n",
       "      <td>-0.101</td>\n",
       "      <td>0.325</td>\n",
       "      <td>-1.181</td>\n",
       "      <td>0.779</td>\n",
       "      <td>0.269</td>\n",
       "      <td>-0.091</td>\n",
       "      <td>-0.083</td>\n",
       "      <td>1.843</td>\n",
       "      <td>...</td>\n",
       "      <td>-0.031</td>\n",
       "      <td>0.149</td>\n",
       "      <td>-0.729</td>\n",
       "      <td>0.074</td>\n",
       "      <td>-1.661</td>\n",
       "      <td>-0.727</td>\n",
       "      <td>-0.023</td>\n",
       "      <td>1.492</td>\n",
       "      <td>0.346</td>\n",
       "      <td>1.0</td>\n",
       "    </tr>\n",
       "    <tr>\n",
       "      <th>3</th>\n",
       "      <td>0.394</td>\n",
       "      <td>-0.706</td>\n",
       "      <td>1.848</td>\n",
       "      <td>-0.630</td>\n",
       "      <td>1.069</td>\n",
       "      <td>1.852</td>\n",
       "      <td>1.103</td>\n",
       "      <td>-0.421</td>\n",
       "      <td>0.855</td>\n",
       "      <td>-0.299</td>\n",
       "      <td>...</td>\n",
       "      <td>0.312</td>\n",
       "      <td>0.614</td>\n",
       "      <td>-0.824</td>\n",
       "      <td>-2.284</td>\n",
       "      <td>-0.268</td>\n",
       "      <td>-0.710</td>\n",
       "      <td>-1.035</td>\n",
       "      <td>0.272</td>\n",
       "      <td>2.725</td>\n",
       "      <td>1.0</td>\n",
       "    </tr>\n",
       "    <tr>\n",
       "      <th>4</th>\n",
       "      <td>0.037</td>\n",
       "      <td>0.357</td>\n",
       "      <td>-0.054</td>\n",
       "      <td>-0.062</td>\n",
       "      <td>0.204</td>\n",
       "      <td>-1.096</td>\n",
       "      <td>0.892</td>\n",
       "      <td>0.679</td>\n",
       "      <td>1.775</td>\n",
       "      <td>0.096</td>\n",
       "      <td>...</td>\n",
       "      <td>-0.932</td>\n",
       "      <td>0.472</td>\n",
       "      <td>0.134</td>\n",
       "      <td>0.749</td>\n",
       "      <td>0.949</td>\n",
       "      <td>0.055</td>\n",
       "      <td>0.585</td>\n",
       "      <td>-0.930</td>\n",
       "      <td>-0.464</td>\n",
       "      <td>1.0</td>\n",
       "    </tr>\n",
       "  </tbody>\n",
       "</table>\n",
       "<p>5 rows × 101 columns</p>\n",
       "</div>"
      ],
      "text/plain": [
       "       33     65     82    129    226    245     91     63    182    287  \\\n",
       "id                                                                         \n",
       "0   0.385 -0.770 -0.380  0.278  0.655 -2.851  0.019  0.933  0.860 -0.284   \n",
       "1  -2.721  1.221  0.406  1.111 -0.124 -0.187  1.188  1.808 -0.607  0.053   \n",
       "2   0.924  0.943 -0.101  0.325 -1.181  0.779  0.269 -0.091 -0.083  1.843   \n",
       "3   0.394 -0.706  1.848 -0.630  1.069  1.852  1.103 -0.421  0.855 -0.299   \n",
       "4   0.037  0.357 -0.054 -0.062  0.204 -1.096  0.892  0.679  1.775  0.096   \n",
       "\n",
       "     ...       81    142    165     98    143    271      6     76    272  \\\n",
       "id   ...                                                                    \n",
       "0    ...    1.292 -0.067 -0.565 -1.556 -0.661 -1.320 -0.236  0.219 -1.516   \n",
       "1    ...   -0.661  0.495  0.166 -0.305 -0.822 -2.771  1.172  0.002 -0.516   \n",
       "2    ...   -0.031  0.149 -0.729  0.074 -1.661 -0.727 -0.023  1.492  0.346   \n",
       "3    ...    0.312  0.614 -0.824 -2.284 -0.268 -0.710 -1.035  0.272  2.725   \n",
       "4    ...   -0.932  0.472  0.134  0.749  0.949  0.055  0.585 -0.930 -0.464   \n",
       "\n",
       "    target  \n",
       "id          \n",
       "0      1.0  \n",
       "1      0.0  \n",
       "2      1.0  \n",
       "3      1.0  \n",
       "4      1.0  \n",
       "\n",
       "[5 rows x 101 columns]"
      ]
     },
     "execution_count": 6,
     "metadata": {},
     "output_type": "execute_result"
    }
   ],
   "source": [
    "columns_impact['difference_of_means'] = (columns_impact['mean_impact_on_0'] - columns_impact['mean_impact_on_1']).abs()\n",
    "columns_impact['conf_int_gap'] = columns_impact.apply(\n",
    "    lambda row:\n",
    "    (row['mean_impact_on_1'] - 2 * row['std_1']) - (row['mean_impact_on_0'] + 2 * row['std_0'])\n",
    "    if row['mean_impact_on_0'] < row['mean_impact_on_1']\n",
    "    else (row['mean_impact_on_0'] - 2 * row['std_0']) - (row['mean_impact_on_1'] + 2 * row['std_1'])\n",
    "    , axis=1\n",
    ")\n",
    "best_columns = list(\n",
    "    columns_impact.sort_values(by=['conf_int_gap', 'difference_of_means']\n",
    "                               , ascending = [False, False])['column_name'][:100]\n",
    ")\n",
    "train_data = train_data[best_columns + ['target']]\n",
    "train_data.head()"
   ]
  },
  {
   "cell_type": "code",
   "execution_count": 7,
   "metadata": {},
   "outputs": [
    {
     "name": "stdout",
     "output_type": "stream",
     "text": [
      "aucroc=0.844\n"
     ]
    }
   ],
   "source": [
    "train_X, val_X, train_y, val_y = train_test_split(\n",
    "    train_data[train_data.columns[train_data.columns != 'target']]\n",
    "    , train_data['target']\n",
    "    , random_state = 1\n",
    "    , test_size = 0.2\n",
    ")\n",
    "\n",
    "cl_log = LogisticRegression()\n",
    "cl_log.fit(train_X, train_y)\n",
    "\n",
    "yhat = cl_log.predict_proba(val_X)[:, 1]\n",
    "\n",
    "# calculate aucroc\n",
    "aucroc = roc_auc_score(val_y, yhat)\n",
    "\n",
    "print('aucroc=%.3f' % aucroc)"
   ]
  },
  {
   "cell_type": "code",
   "execution_count": 8,
   "metadata": {
    "collapsed": true
   },
   "outputs": [],
   "source": [
    "cl_log_final = LogisticRegression()\n",
    "cl_log_final.fit(train_data[train_data.columns[train_data.columns != 'target']], train_data['target'])\n",
    "test_yhat = cl_log_final.predict_proba(test_data[train_data.columns[train_data.columns != 'target']])[:, 1]\n",
    "submission_df = pd.DataFrame({'target' : test_yhat}, index = test_data.index)"
   ]
  },
  {
   "cell_type": "code",
   "execution_count": 9,
   "metadata": {
    "collapsed": true
   },
   "outputs": [],
   "source": [
    "submission_df.to_csv(f'{data_path}logreg_basic.csv', sep = ',')"
   ]
  },
  {
   "cell_type": "code",
   "execution_count": 10,
   "metadata": {
    "collapsed": true
   },
   "outputs": [],
   "source": [
    "my_folds = RepeatedStratifiedKFold(n_splits = 5, n_repeats = 10, random_state = 2)"
   ]
  },
  {
   "cell_type": "code",
   "execution_count": 11,
   "metadata": {},
   "outputs": [
    {
     "data": {
      "image/png": "[encoded data removed]",
      "text/plain": [
       "<matplotlib.figure.Figure at 0x1fa68603400>"
      ]
     },
     "metadata": {},
     "output_type": "display_data"
    }
   ],
   "source": [
    "C = np.linspace(start = 0.0001, stop = 1, num=51)\n",
    "hyperparameters = dict(C = C)\n",
    "cl_log = LogisticRegression(penalty = 'l2', max_iter = 100)\n",
    "grid_logl2 = GridSearchCV(cl_log\n",
    "                        , hyperparameters\n",
    "                        , cv = my_folds\n",
    "                        , verbose = 0\n",
    "                        , scoring = 'roc_auc'\n",
    "                        , return_train_score = True)\n",
    "grid_logl2.fit(train_data[train_data.columns[train_data.columns != 'target']], train_data['target'])\n",
    "\n",
    "test_scores = grid_logl2.cv_results_['mean_test_score']\n",
    "train_scores = grid_logl2.cv_results_['mean_train_score']\n",
    "param_C = grid_logl2.cv_results_['param_C']\n",
    "plt.plot(param_C, test_scores, label = 'test score')\n",
    "plt.plot(param_C, train_scores, label = 'train score')\n",
    "plt.xlabel('C')\n",
    "plt.ylabel('AUCROC')\n",
    "plt.legend()\n",
    "plt.show()"
   ]
  },
  {
   "cell_type": "code",
   "execution_count": 12,
   "metadata": {
    "collapsed": true
   },
   "outputs": [],
   "source": [
    "cl_log_final = LogisticRegression(\n",
    "    penalty = 'l2'\n",
    "    , max_iter = 100\n",
    "    , C = 0.0001\n",
    ")\n",
    "cl_log_final.fit(train_data[train_data.columns[train_data.columns != 'target']], train_data['target'])\n",
    "test_yhat = cl_log_final.predict_proba(test_data[train_data.columns[train_data.columns != 'target']])[:, 1]\n",
    "submission_df = pd.DataFrame({'target' : test_yhat}, index = test_data.index)\n",
    "submission_df.to_csv(f'{data_path}logreg_tunedl2.csv', sep = ',')"
   ]
  },
  {
   "cell_type": "code",
   "execution_count": 13,
   "metadata": {},
   "outputs": [
    {
     "data": {
      "image/png": "[encoded data removed]",
      "text/plain": [
       "<matplotlib.figure.Figure at 0x1fa6fa69a58>"
      ]
     },
     "metadata": {},
     "output_type": "display_data"
    }
   ],
   "source": [
    "C = np.linspace(start = 0.0001, stop = 1, num=51)\n",
    "hyperparameters = dict(C = C)\n",
    "cl_log = LogisticRegression(penalty = 'l1', max_iter = 100)\n",
    "grid_logl1 = GridSearchCV(cl_log\n",
    "                        , hyperparameters\n",
    "                        , cv = my_folds\n",
    "                        , verbose = 0\n",
    "                        , scoring = 'roc_auc'\n",
    "                        , return_train_score = True)\n",
    "grid_logl1.fit(train_data[train_data.columns[train_data.columns != 'target']], train_data['target'])\n",
    "\n",
    "test_scores = grid_logl1.cv_results_['mean_test_score']\n",
    "train_scores = grid_logl1.cv_results_['mean_train_score']\n",
    "param_C = grid_logl1.cv_results_['param_C']\n",
    "plt.plot(param_C, test_scores, label = 'test score')\n",
    "plt.plot(param_C, train_scores, label = 'train score')\n",
    "plt.xlabel('C')\n",
    "plt.ylabel('AUCROC')\n",
    "plt.legend()\n",
    "plt.show()"
   ]
  },
  {
   "cell_type": "code",
   "execution_count": 14,
   "metadata": {},
   "outputs": [],
   "source": [
    "cl_log_final = LogisticRegression(\n",
    "    penalty = 'l1'\n",
    "    , max_iter = 100\n",
    "    , C = 0.38\n",
    ")\n",
    "cl_log_final.fit(train_data[train_data.columns[train_data.columns != 'target']], train_data['target'])\n",
    "test_yhat = cl_log_final.predict_proba(test_data[train_data.columns[train_data.columns != 'target']])[:, 1]\n",
    "submission_df = pd.DataFrame({'target' : test_yhat}, index = test_data.index)\n",
    "submission_df.to_csv(f'{data_path}logreg_tunedl1.csv', sep = ',')"
   ]
  }
 ],
 "metadata": {
  "kernelspec": {
   "display_name": "Python 3",
   "language": "python",
   "name": "python3"
  },
  "language_info": {
   "codemirror_mode": {
    "name": "ipython",
    "version": 3
   },
   "file_extension": ".py",
   "mimetype": "text/x-python",
   "name": "python",
   "nbconvert_exporter": "python",
   "pygments_lexer": "ipython3",
   "version": "3.6.3"
  }
 },
 "nbformat": 4,
 "nbformat_minor": 2
}
